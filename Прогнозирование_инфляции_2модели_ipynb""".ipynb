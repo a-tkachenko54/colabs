{
  "nbformat": 4,
  "nbformat_minor": 0,
  "metadata": {
    "colab": {
      "provenance": [],
      "mount_file_id": "1CXogHT5104bvE50Spo-ZXz9WqdbGtdfF",
      "authorship_tag": "ABX9TyO+c3vxHilaSLiOpzNkK3Qw",
      "include_colab_link": true
    },
    "kernelspec": {
      "name": "python3",
      "display_name": "Python 3"
    },
    "language_info": {
      "name": "python"
    }
  },
  "cells": [
    {
      "cell_type": "markdown",
      "metadata": {
        "id": "view-in-github",
        "colab_type": "text"
      },
      "source": [
        "<a href=\"https://colab.research.google.com/github/a-tkachenko54/colabs/blob/main/%D0%9F%D1%80%D0%BE%D0%B3%D0%BD%D0%BE%D0%B7%D0%B8%D1%80%D0%BE%D0%B2%D0%B0%D0%BD%D0%B8%D0%B5_%D0%B8%D0%BD%D1%84%D0%BB%D1%8F%D1%86%D0%B8%D0%B8_2%D0%BC%D0%BE%D0%B4%D0%B5%D0%BB%D0%B8_ipynb%22%22%22.ipynb\" target=\"_parent\"><img src=\"https://colab.research.google.com/assets/colab-badge.svg\" alt=\"Open In Colab\"/></a>"
      ]
    },
    {
      "cell_type": "markdown",
      "source": [
        "Предсказание инфляции"
      ],
      "metadata": {
        "id": "pWWXJXA-scVM"
      }
    },
    {
      "cell_type": "code",
      "source": [
        "from google.colab import drive\n",
        "drive.mount('/content/drive')"
      ],
      "metadata": {
        "colab": {
          "base_uri": "https://localhost:8080/"
        },
        "id": "txnWl4fr9rKt",
        "outputId": "252fe9a3-ea24-45d5-c9e8-99678cfbfbfb"
      },
      "execution_count": 1,
      "outputs": [
        {
          "output_type": "stream",
          "name": "stdout",
          "text": [
            "Drive already mounted at /content/drive; to attempt to forcibly remount, call drive.mount(\"/content/drive\", force_remount=True).\n"
          ]
        }
      ]
    },
    {
      "cell_type": "code",
      "source": [
        "import pandas as pd\n",
        "import numpy as np"
      ],
      "metadata": {
        "id": "_qHzI4hCAvVV"
      },
      "execution_count": 2,
      "outputs": []
    },
    {
      "cell_type": "code",
      "source": [
        "data_b = pd.read_excel('/content/drive/MyDrive/Стажировка/Данные для НС/Сводная_База_МЭП_DIMAR_И.xlsx', sheet_name='База', index_col=0)\n",
        "data_d = pd.read_excel('/content/drive/MyDrive/Стажировка/Данные для НС/Сводная_База_МЭП_DIMAR_И.xlsx', sheet_name='Словарь_параметров', index_col=0)\n",
        "data_b.head()"
      ],
      "metadata": {
        "colab": {
          "base_uri": "https://localhost:8080/",
          "height": 418
        },
        "id": "ZwcDxKMoUYIP",
        "outputId": "bde66680-f02d-48fb-ffa3-9971d7a2f08d"
      },
      "execution_count": 3,
      "outputs": [
        {
          "output_type": "execute_result",
          "data": {
            "text/plain": [
              "                     Y1     X1   X2      X3    X4     X5     X6     X7  \\\n",
              "Т                                                                        \n",
              "2013-01-01  5456.667632  100.9  850  1830.0  3372  427.3  511.4  269.7   \n",
              "2013-02-01  5456.667632  100.8  863  1919.0  3031  391.9  652.5  284.1   \n",
              "2013-03-01  5456.667632  100.5  925  2272.0  3439  429.3  741.5  385.8   \n",
              "2013-04-01  5835.960594  100.2  915  2541.0  3506  417.1  771.6  399.7   \n",
              "2013-05-01  5835.960594  100.0  885  2937.0  3812  425.1  987.0  449.0   \n",
              "\n",
              "                  X9      X10  ...         Z84         Z96    Z97  \\\n",
              "Т                              ...                                  \n",
              "2013-01-01  1162.161  651.651  ...  100.000000  59087.2129  14444   \n",
              "2013-02-01  1279.916  811.430  ...  100.321494  67680.6465  13680   \n",
              "2013-03-01  1379.952  882.672  ...   99.730395  72257.9989  12904   \n",
              "2013-04-01  1384.818  931.548  ...   99.160994  73362.9039  12548   \n",
              "2013-05-01  1292.031  833.976  ...   99.153420  66043.1814  12277   \n",
              "\n",
              "                    Z98      Z99     Z100          Z101     Z102  \\\n",
              "Т                                                                  \n",
              "2013-01-01  5456.667632  2202.70  7849.38  1.092678e+10  2908.98   \n",
              "2013-02-01  5456.667632  2202.71  7995.58  1.429568e+10  2918.63   \n",
              "2013-03-01  5456.667632  2202.72  8064.77  1.141143e+10  2688.17   \n",
              "2013-04-01  5835.960594  2202.73  7686.61  2.272075e+10  2397.30   \n",
              "2013-05-01  5835.960594  2202.74  7524.36  2.269822e+10  2279.33   \n",
              "\n",
              "                    Z103      Y2  \n",
              "Т                                 \n",
              "2013-01-01  5.660726e+10  1.0097  \n",
              "2013-02-01  5.018267e+10  1.0056  \n",
              "2013-03-01  5.101857e+10  1.0034  \n",
              "2013-04-01  5.984318e+10  1.0051  \n",
              "2013-05-01  4.457479e+10  1.0066  \n",
              "\n",
              "[5 rows x 91 columns]"
            ],
            "text/html": [
              "\n",
              "  <div id=\"df-42e99e55-e303-4ce3-bb4d-d6948a1766cb\">\n",
              "    <div class=\"colab-df-container\">\n",
              "      <div>\n",
              "<style scoped>\n",
              "    .dataframe tbody tr th:only-of-type {\n",
              "        vertical-align: middle;\n",
              "    }\n",
              "\n",
              "    .dataframe tbody tr th {\n",
              "        vertical-align: top;\n",
              "    }\n",
              "\n",
              "    .dataframe thead th {\n",
              "        text-align: right;\n",
              "    }\n",
              "</style>\n",
              "<table border=\"1\" class=\"dataframe\">\n",
              "  <thead>\n",
              "    <tr style=\"text-align: right;\">\n",
              "      <th></th>\n",
              "      <th>Y1</th>\n",
              "      <th>X1</th>\n",
              "      <th>X2</th>\n",
              "      <th>X3</th>\n",
              "      <th>X4</th>\n",
              "      <th>X5</th>\n",
              "      <th>X6</th>\n",
              "      <th>X7</th>\n",
              "      <th>X9</th>\n",
              "      <th>X10</th>\n",
              "      <th>...</th>\n",
              "      <th>Z84</th>\n",
              "      <th>Z96</th>\n",
              "      <th>Z97</th>\n",
              "      <th>Z98</th>\n",
              "      <th>Z99</th>\n",
              "      <th>Z100</th>\n",
              "      <th>Z101</th>\n",
              "      <th>Z102</th>\n",
              "      <th>Z103</th>\n",
              "      <th>Y2</th>\n",
              "    </tr>\n",
              "    <tr>\n",
              "      <th>Т</th>\n",
              "      <th></th>\n",
              "      <th></th>\n",
              "      <th></th>\n",
              "      <th></th>\n",
              "      <th></th>\n",
              "      <th></th>\n",
              "      <th></th>\n",
              "      <th></th>\n",
              "      <th></th>\n",
              "      <th></th>\n",
              "      <th></th>\n",
              "      <th></th>\n",
              "      <th></th>\n",
              "      <th></th>\n",
              "      <th></th>\n",
              "      <th></th>\n",
              "      <th></th>\n",
              "      <th></th>\n",
              "      <th></th>\n",
              "      <th></th>\n",
              "      <th></th>\n",
              "    </tr>\n",
              "  </thead>\n",
              "  <tbody>\n",
              "    <tr>\n",
              "      <th>2013-01-01</th>\n",
              "      <td>5456.667632</td>\n",
              "      <td>100.9</td>\n",
              "      <td>850</td>\n",
              "      <td>1830.0</td>\n",
              "      <td>3372</td>\n",
              "      <td>427.3</td>\n",
              "      <td>511.4</td>\n",
              "      <td>269.7</td>\n",
              "      <td>1162.161</td>\n",
              "      <td>651.651</td>\n",
              "      <td>...</td>\n",
              "      <td>100.000000</td>\n",
              "      <td>59087.2129</td>\n",
              "      <td>14444</td>\n",
              "      <td>5456.667632</td>\n",
              "      <td>2202.70</td>\n",
              "      <td>7849.38</td>\n",
              "      <td>1.092678e+10</td>\n",
              "      <td>2908.98</td>\n",
              "      <td>5.660726e+10</td>\n",
              "      <td>1.0097</td>\n",
              "    </tr>\n",
              "    <tr>\n",
              "      <th>2013-02-01</th>\n",
              "      <td>5456.667632</td>\n",
              "      <td>100.8</td>\n",
              "      <td>863</td>\n",
              "      <td>1919.0</td>\n",
              "      <td>3031</td>\n",
              "      <td>391.9</td>\n",
              "      <td>652.5</td>\n",
              "      <td>284.1</td>\n",
              "      <td>1279.916</td>\n",
              "      <td>811.430</td>\n",
              "      <td>...</td>\n",
              "      <td>100.321494</td>\n",
              "      <td>67680.6465</td>\n",
              "      <td>13680</td>\n",
              "      <td>5456.667632</td>\n",
              "      <td>2202.71</td>\n",
              "      <td>7995.58</td>\n",
              "      <td>1.429568e+10</td>\n",
              "      <td>2918.63</td>\n",
              "      <td>5.018267e+10</td>\n",
              "      <td>1.0056</td>\n",
              "    </tr>\n",
              "    <tr>\n",
              "      <th>2013-03-01</th>\n",
              "      <td>5456.667632</td>\n",
              "      <td>100.5</td>\n",
              "      <td>925</td>\n",
              "      <td>2272.0</td>\n",
              "      <td>3439</td>\n",
              "      <td>429.3</td>\n",
              "      <td>741.5</td>\n",
              "      <td>385.8</td>\n",
              "      <td>1379.952</td>\n",
              "      <td>882.672</td>\n",
              "      <td>...</td>\n",
              "      <td>99.730395</td>\n",
              "      <td>72257.9989</td>\n",
              "      <td>12904</td>\n",
              "      <td>5456.667632</td>\n",
              "      <td>2202.72</td>\n",
              "      <td>8064.77</td>\n",
              "      <td>1.141143e+10</td>\n",
              "      <td>2688.17</td>\n",
              "      <td>5.101857e+10</td>\n",
              "      <td>1.0034</td>\n",
              "    </tr>\n",
              "    <tr>\n",
              "      <th>2013-04-01</th>\n",
              "      <td>5835.960594</td>\n",
              "      <td>100.2</td>\n",
              "      <td>915</td>\n",
              "      <td>2541.0</td>\n",
              "      <td>3506</td>\n",
              "      <td>417.1</td>\n",
              "      <td>771.6</td>\n",
              "      <td>399.7</td>\n",
              "      <td>1384.818</td>\n",
              "      <td>931.548</td>\n",
              "      <td>...</td>\n",
              "      <td>99.160994</td>\n",
              "      <td>73362.9039</td>\n",
              "      <td>12548</td>\n",
              "      <td>5835.960594</td>\n",
              "      <td>2202.73</td>\n",
              "      <td>7686.61</td>\n",
              "      <td>2.272075e+10</td>\n",
              "      <td>2397.30</td>\n",
              "      <td>5.984318e+10</td>\n",
              "      <td>1.0051</td>\n",
              "    </tr>\n",
              "    <tr>\n",
              "      <th>2013-05-01</th>\n",
              "      <td>5835.960594</td>\n",
              "      <td>100.0</td>\n",
              "      <td>885</td>\n",
              "      <td>2937.0</td>\n",
              "      <td>3812</td>\n",
              "      <td>425.1</td>\n",
              "      <td>987.0</td>\n",
              "      <td>449.0</td>\n",
              "      <td>1292.031</td>\n",
              "      <td>833.976</td>\n",
              "      <td>...</td>\n",
              "      <td>99.153420</td>\n",
              "      <td>66043.1814</td>\n",
              "      <td>12277</td>\n",
              "      <td>5835.960594</td>\n",
              "      <td>2202.74</td>\n",
              "      <td>7524.36</td>\n",
              "      <td>2.269822e+10</td>\n",
              "      <td>2279.33</td>\n",
              "      <td>4.457479e+10</td>\n",
              "      <td>1.0066</td>\n",
              "    </tr>\n",
              "  </tbody>\n",
              "</table>\n",
              "<p>5 rows × 91 columns</p>\n",
              "</div>\n",
              "      <button class=\"colab-df-convert\" onclick=\"convertToInteractive('df-42e99e55-e303-4ce3-bb4d-d6948a1766cb')\"\n",
              "              title=\"Convert this dataframe to an interactive table.\"\n",
              "              style=\"display:none;\">\n",
              "        \n",
              "  <svg xmlns=\"http://www.w3.org/2000/svg\" height=\"24px\"viewBox=\"0 0 24 24\"\n",
              "       width=\"24px\">\n",
              "    <path d=\"M0 0h24v24H0V0z\" fill=\"none\"/>\n",
              "    <path d=\"M18.56 5.44l.94 2.06.94-2.06 2.06-.94-2.06-.94-.94-2.06-.94 2.06-2.06.94zm-11 1L8.5 8.5l.94-2.06 2.06-.94-2.06-.94L8.5 2.5l-.94 2.06-2.06.94zm10 10l.94 2.06.94-2.06 2.06-.94-2.06-.94-.94-2.06-.94 2.06-2.06.94z\"/><path d=\"M17.41 7.96l-1.37-1.37c-.4-.4-.92-.59-1.43-.59-.52 0-1.04.2-1.43.59L10.3 9.45l-7.72 7.72c-.78.78-.78 2.05 0 2.83L4 21.41c.39.39.9.59 1.41.59.51 0 1.02-.2 1.41-.59l7.78-7.78 2.81-2.81c.8-.78.8-2.07 0-2.86zM5.41 20L4 18.59l7.72-7.72 1.47 1.35L5.41 20z\"/>\n",
              "  </svg>\n",
              "      </button>\n",
              "      \n",
              "  <style>\n",
              "    .colab-df-container {\n",
              "      display:flex;\n",
              "      flex-wrap:wrap;\n",
              "      gap: 12px;\n",
              "    }\n",
              "\n",
              "    .colab-df-convert {\n",
              "      background-color: #E8F0FE;\n",
              "      border: none;\n",
              "      border-radius: 50%;\n",
              "      cursor: pointer;\n",
              "      display: none;\n",
              "      fill: #1967D2;\n",
              "      height: 32px;\n",
              "      padding: 0 0 0 0;\n",
              "      width: 32px;\n",
              "    }\n",
              "\n",
              "    .colab-df-convert:hover {\n",
              "      background-color: #E2EBFA;\n",
              "      box-shadow: 0px 1px 2px rgba(60, 64, 67, 0.3), 0px 1px 3px 1px rgba(60, 64, 67, 0.15);\n",
              "      fill: #174EA6;\n",
              "    }\n",
              "\n",
              "    [theme=dark] .colab-df-convert {\n",
              "      background-color: #3B4455;\n",
              "      fill: #D2E3FC;\n",
              "    }\n",
              "\n",
              "    [theme=dark] .colab-df-convert:hover {\n",
              "      background-color: #434B5C;\n",
              "      box-shadow: 0px 1px 3px 1px rgba(0, 0, 0, 0.15);\n",
              "      filter: drop-shadow(0px 1px 2px rgba(0, 0, 0, 0.3));\n",
              "      fill: #FFFFFF;\n",
              "    }\n",
              "  </style>\n",
              "\n",
              "      <script>\n",
              "        const buttonEl =\n",
              "          document.querySelector('#df-42e99e55-e303-4ce3-bb4d-d6948a1766cb button.colab-df-convert');\n",
              "        buttonEl.style.display =\n",
              "          google.colab.kernel.accessAllowed ? 'block' : 'none';\n",
              "\n",
              "        async function convertToInteractive(key) {\n",
              "          const element = document.querySelector('#df-42e99e55-e303-4ce3-bb4d-d6948a1766cb');\n",
              "          const dataTable =\n",
              "            await google.colab.kernel.invokeFunction('convertToInteractive',\n",
              "                                                     [key], {});\n",
              "          if (!dataTable) return;\n",
              "\n",
              "          const docLinkHtml = 'Like what you see? Visit the ' +\n",
              "            '<a target=\"_blank\" href=https://colab.research.google.com/notebooks/data_table.ipynb>data table notebook</a>'\n",
              "            + ' to learn more about interactive tables.';\n",
              "          element.innerHTML = '';\n",
              "          dataTable['output_type'] = 'display_data';\n",
              "          await google.colab.output.renderOutput(dataTable, element);\n",
              "          const docLink = document.createElement('div');\n",
              "          docLink.innerHTML = docLinkHtml;\n",
              "          element.appendChild(docLink);\n",
              "        }\n",
              "      </script>\n",
              "    </div>\n",
              "  </div>\n",
              "  "
            ]
          },
          "metadata": {},
          "execution_count": 3
        }
      ]
    },
    {
      "cell_type": "code",
      "source": [
        "data_b.shape"
      ],
      "metadata": {
        "colab": {
          "base_uri": "https://localhost:8080/"
        },
        "id": "Lh1kMHlSFbfC",
        "outputId": "58976430-1b1e-4123-83da-f888dcb896e1"
      },
      "execution_count": null,
      "outputs": [
        {
          "output_type": "execute_result",
          "data": {
            "text/plain": [
              "(120, 91)"
            ]
          },
          "metadata": {},
          "execution_count": 6
        }
      ]
    },
    {
      "cell_type": "code",
      "source": [
        "x_train = data_b.iloc[:-12, :-1]\n",
        "x_test = data_b.iloc[-12:, :-1]\n",
        "print('Обучающая выборка X:', x_train.shape)\n",
        "print('Проверочная выборка X:', x_test.shape)"
      ],
      "metadata": {
        "colab": {
          "base_uri": "https://localhost:8080/"
        },
        "id": "xfkXWVsyF_A5",
        "outputId": "75ed907a-ed81-452c-cc15-5848d56b795f"
      },
      "execution_count": 5,
      "outputs": [
        {
          "output_type": "stream",
          "name": "stdout",
          "text": [
            "Обучающая выборка X: (108, 90)\n",
            "Проверочная выборка X: (12, 90)\n"
          ]
        }
      ]
    },
    {
      "cell_type": "code",
      "source": [
        "x_train.head()"
      ],
      "metadata": {
        "id": "EEDzNG94UZV3",
        "colab": {
          "base_uri": "https://localhost:8080/",
          "height": 418
        },
        "outputId": "f97ee4a8-c2ab-4221-f2ab-297fc5ea3b95"
      },
      "execution_count": null,
      "outputs": [
        {
          "output_type": "execute_result",
          "data": {
            "text/plain": [
              "                     Y1     X1   X2      X3    X4     X5     X6     X7  \\\n",
              "Т                                                                        \n",
              "2013-01-01  5456.667632  100.9  850  1830.0  3372  427.3  511.4  269.7   \n",
              "2013-02-01  5456.667632  100.8  863  1919.0  3031  391.9  652.5  284.1   \n",
              "2013-03-01  5456.667632  100.5  925  2272.0  3439  429.3  741.5  385.8   \n",
              "2013-04-01  5835.960594  100.2  915  2541.0  3506  417.1  771.6  399.7   \n",
              "2013-05-01  5835.960594  100.0  885  2937.0  3812  425.1  987.0  449.0   \n",
              "\n",
              "                  X9      X10  ...      Z80         Z84         Z96    Z97  \\\n",
              "Т                              ...                                           \n",
              "2013-01-01  1162.161  651.651  ...  2690.63  100.000000  59087.2129  14444   \n",
              "2013-02-01  1279.916  811.430  ...  2678.63  100.321494  67680.6465  13680   \n",
              "2013-03-01  1379.952  882.672  ...  2682.58   99.730395  72257.9989  12904   \n",
              "2013-04-01  1384.818  931.548  ...  2696.73   99.160994  73362.9039  12548   \n",
              "2013-05-01  1292.031  833.976  ...  2727.79   99.153420  66043.1814  12277   \n",
              "\n",
              "                    Z98      Z99     Z100          Z101     Z102          Z103  \n",
              "Т                                                                               \n",
              "2013-01-01  5456.667632  2202.70  7849.38  1.092678e+10  2908.98  5.660726e+10  \n",
              "2013-02-01  5456.667632  2202.71  7995.58  1.429568e+10  2918.63  5.018267e+10  \n",
              "2013-03-01  5456.667632  2202.72  8064.77  1.141143e+10  2688.17  5.101857e+10  \n",
              "2013-04-01  5835.960594  2202.73  7686.61  2.272075e+10  2397.30  5.984318e+10  \n",
              "2013-05-01  5835.960594  2202.74  7524.36  2.269822e+10  2279.33  4.457479e+10  \n",
              "\n",
              "[5 rows x 90 columns]"
            ],
            "text/html": [
              "\n",
              "  <div id=\"df-9460a78f-c893-48a9-a9e1-df707cb12f96\">\n",
              "    <div class=\"colab-df-container\">\n",
              "      <div>\n",
              "<style scoped>\n",
              "    .dataframe tbody tr th:only-of-type {\n",
              "        vertical-align: middle;\n",
              "    }\n",
              "\n",
              "    .dataframe tbody tr th {\n",
              "        vertical-align: top;\n",
              "    }\n",
              "\n",
              "    .dataframe thead th {\n",
              "        text-align: right;\n",
              "    }\n",
              "</style>\n",
              "<table border=\"1\" class=\"dataframe\">\n",
              "  <thead>\n",
              "    <tr style=\"text-align: right;\">\n",
              "      <th></th>\n",
              "      <th>Y1</th>\n",
              "      <th>X1</th>\n",
              "      <th>X2</th>\n",
              "      <th>X3</th>\n",
              "      <th>X4</th>\n",
              "      <th>X5</th>\n",
              "      <th>X6</th>\n",
              "      <th>X7</th>\n",
              "      <th>X9</th>\n",
              "      <th>X10</th>\n",
              "      <th>...</th>\n",
              "      <th>Z80</th>\n",
              "      <th>Z84</th>\n",
              "      <th>Z96</th>\n",
              "      <th>Z97</th>\n",
              "      <th>Z98</th>\n",
              "      <th>Z99</th>\n",
              "      <th>Z100</th>\n",
              "      <th>Z101</th>\n",
              "      <th>Z102</th>\n",
              "      <th>Z103</th>\n",
              "    </tr>\n",
              "    <tr>\n",
              "      <th>Т</th>\n",
              "      <th></th>\n",
              "      <th></th>\n",
              "      <th></th>\n",
              "      <th></th>\n",
              "      <th></th>\n",
              "      <th></th>\n",
              "      <th></th>\n",
              "      <th></th>\n",
              "      <th></th>\n",
              "      <th></th>\n",
              "      <th></th>\n",
              "      <th></th>\n",
              "      <th></th>\n",
              "      <th></th>\n",
              "      <th></th>\n",
              "      <th></th>\n",
              "      <th></th>\n",
              "      <th></th>\n",
              "      <th></th>\n",
              "      <th></th>\n",
              "      <th></th>\n",
              "    </tr>\n",
              "  </thead>\n",
              "  <tbody>\n",
              "    <tr>\n",
              "      <th>2013-01-01</th>\n",
              "      <td>5456.667632</td>\n",
              "      <td>100.9</td>\n",
              "      <td>850</td>\n",
              "      <td>1830.0</td>\n",
              "      <td>3372</td>\n",
              "      <td>427.3</td>\n",
              "      <td>511.4</td>\n",
              "      <td>269.7</td>\n",
              "      <td>1162.161</td>\n",
              "      <td>651.651</td>\n",
              "      <td>...</td>\n",
              "      <td>2690.63</td>\n",
              "      <td>100.000000</td>\n",
              "      <td>59087.2129</td>\n",
              "      <td>14444</td>\n",
              "      <td>5456.667632</td>\n",
              "      <td>2202.70</td>\n",
              "      <td>7849.38</td>\n",
              "      <td>1.092678e+10</td>\n",
              "      <td>2908.98</td>\n",
              "      <td>5.660726e+10</td>\n",
              "    </tr>\n",
              "    <tr>\n",
              "      <th>2013-02-01</th>\n",
              "      <td>5456.667632</td>\n",
              "      <td>100.8</td>\n",
              "      <td>863</td>\n",
              "      <td>1919.0</td>\n",
              "      <td>3031</td>\n",
              "      <td>391.9</td>\n",
              "      <td>652.5</td>\n",
              "      <td>284.1</td>\n",
              "      <td>1279.916</td>\n",
              "      <td>811.430</td>\n",
              "      <td>...</td>\n",
              "      <td>2678.63</td>\n",
              "      <td>100.321494</td>\n",
              "      <td>67680.6465</td>\n",
              "      <td>13680</td>\n",
              "      <td>5456.667632</td>\n",
              "      <td>2202.71</td>\n",
              "      <td>7995.58</td>\n",
              "      <td>1.429568e+10</td>\n",
              "      <td>2918.63</td>\n",
              "      <td>5.018267e+10</td>\n",
              "    </tr>\n",
              "    <tr>\n",
              "      <th>2013-03-01</th>\n",
              "      <td>5456.667632</td>\n",
              "      <td>100.5</td>\n",
              "      <td>925</td>\n",
              "      <td>2272.0</td>\n",
              "      <td>3439</td>\n",
              "      <td>429.3</td>\n",
              "      <td>741.5</td>\n",
              "      <td>385.8</td>\n",
              "      <td>1379.952</td>\n",
              "      <td>882.672</td>\n",
              "      <td>...</td>\n",
              "      <td>2682.58</td>\n",
              "      <td>99.730395</td>\n",
              "      <td>72257.9989</td>\n",
              "      <td>12904</td>\n",
              "      <td>5456.667632</td>\n",
              "      <td>2202.72</td>\n",
              "      <td>8064.77</td>\n",
              "      <td>1.141143e+10</td>\n",
              "      <td>2688.17</td>\n",
              "      <td>5.101857e+10</td>\n",
              "    </tr>\n",
              "    <tr>\n",
              "      <th>2013-04-01</th>\n",
              "      <td>5835.960594</td>\n",
              "      <td>100.2</td>\n",
              "      <td>915</td>\n",
              "      <td>2541.0</td>\n",
              "      <td>3506</td>\n",
              "      <td>417.1</td>\n",
              "      <td>771.6</td>\n",
              "      <td>399.7</td>\n",
              "      <td>1384.818</td>\n",
              "      <td>931.548</td>\n",
              "      <td>...</td>\n",
              "      <td>2696.73</td>\n",
              "      <td>99.160994</td>\n",
              "      <td>73362.9039</td>\n",
              "      <td>12548</td>\n",
              "      <td>5835.960594</td>\n",
              "      <td>2202.73</td>\n",
              "      <td>7686.61</td>\n",
              "      <td>2.272075e+10</td>\n",
              "      <td>2397.30</td>\n",
              "      <td>5.984318e+10</td>\n",
              "    </tr>\n",
              "    <tr>\n",
              "      <th>2013-05-01</th>\n",
              "      <td>5835.960594</td>\n",
              "      <td>100.0</td>\n",
              "      <td>885</td>\n",
              "      <td>2937.0</td>\n",
              "      <td>3812</td>\n",
              "      <td>425.1</td>\n",
              "      <td>987.0</td>\n",
              "      <td>449.0</td>\n",
              "      <td>1292.031</td>\n",
              "      <td>833.976</td>\n",
              "      <td>...</td>\n",
              "      <td>2727.79</td>\n",
              "      <td>99.153420</td>\n",
              "      <td>66043.1814</td>\n",
              "      <td>12277</td>\n",
              "      <td>5835.960594</td>\n",
              "      <td>2202.74</td>\n",
              "      <td>7524.36</td>\n",
              "      <td>2.269822e+10</td>\n",
              "      <td>2279.33</td>\n",
              "      <td>4.457479e+10</td>\n",
              "    </tr>\n",
              "  </tbody>\n",
              "</table>\n",
              "<p>5 rows × 90 columns</p>\n",
              "</div>\n",
              "      <button class=\"colab-df-convert\" onclick=\"convertToInteractive('df-9460a78f-c893-48a9-a9e1-df707cb12f96')\"\n",
              "              title=\"Convert this dataframe to an interactive table.\"\n",
              "              style=\"display:none;\">\n",
              "        \n",
              "  <svg xmlns=\"http://www.w3.org/2000/svg\" height=\"24px\"viewBox=\"0 0 24 24\"\n",
              "       width=\"24px\">\n",
              "    <path d=\"M0 0h24v24H0V0z\" fill=\"none\"/>\n",
              "    <path d=\"M18.56 5.44l.94 2.06.94-2.06 2.06-.94-2.06-.94-.94-2.06-.94 2.06-2.06.94zm-11 1L8.5 8.5l.94-2.06 2.06-.94-2.06-.94L8.5 2.5l-.94 2.06-2.06.94zm10 10l.94 2.06.94-2.06 2.06-.94-2.06-.94-.94-2.06-.94 2.06-2.06.94z\"/><path d=\"M17.41 7.96l-1.37-1.37c-.4-.4-.92-.59-1.43-.59-.52 0-1.04.2-1.43.59L10.3 9.45l-7.72 7.72c-.78.78-.78 2.05 0 2.83L4 21.41c.39.39.9.59 1.41.59.51 0 1.02-.2 1.41-.59l7.78-7.78 2.81-2.81c.8-.78.8-2.07 0-2.86zM5.41 20L4 18.59l7.72-7.72 1.47 1.35L5.41 20z\"/>\n",
              "  </svg>\n",
              "      </button>\n",
              "      \n",
              "  <style>\n",
              "    .colab-df-container {\n",
              "      display:flex;\n",
              "      flex-wrap:wrap;\n",
              "      gap: 12px;\n",
              "    }\n",
              "\n",
              "    .colab-df-convert {\n",
              "      background-color: #E8F0FE;\n",
              "      border: none;\n",
              "      border-radius: 50%;\n",
              "      cursor: pointer;\n",
              "      display: none;\n",
              "      fill: #1967D2;\n",
              "      height: 32px;\n",
              "      padding: 0 0 0 0;\n",
              "      width: 32px;\n",
              "    }\n",
              "\n",
              "    .colab-df-convert:hover {\n",
              "      background-color: #E2EBFA;\n",
              "      box-shadow: 0px 1px 2px rgba(60, 64, 67, 0.3), 0px 1px 3px 1px rgba(60, 64, 67, 0.15);\n",
              "      fill: #174EA6;\n",
              "    }\n",
              "\n",
              "    [theme=dark] .colab-df-convert {\n",
              "      background-color: #3B4455;\n",
              "      fill: #D2E3FC;\n",
              "    }\n",
              "\n",
              "    [theme=dark] .colab-df-convert:hover {\n",
              "      background-color: #434B5C;\n",
              "      box-shadow: 0px 1px 3px 1px rgba(0, 0, 0, 0.15);\n",
              "      filter: drop-shadow(0px 1px 2px rgba(0, 0, 0, 0.3));\n",
              "      fill: #FFFFFF;\n",
              "    }\n",
              "  </style>\n",
              "\n",
              "      <script>\n",
              "        const buttonEl =\n",
              "          document.querySelector('#df-9460a78f-c893-48a9-a9e1-df707cb12f96 button.colab-df-convert');\n",
              "        buttonEl.style.display =\n",
              "          google.colab.kernel.accessAllowed ? 'block' : 'none';\n",
              "\n",
              "        async function convertToInteractive(key) {\n",
              "          const element = document.querySelector('#df-9460a78f-c893-48a9-a9e1-df707cb12f96');\n",
              "          const dataTable =\n",
              "            await google.colab.kernel.invokeFunction('convertToInteractive',\n",
              "                                                     [key], {});\n",
              "          if (!dataTable) return;\n",
              "\n",
              "          const docLinkHtml = 'Like what you see? Visit the ' +\n",
              "            '<a target=\"_blank\" href=https://colab.research.google.com/notebooks/data_table.ipynb>data table notebook</a>'\n",
              "            + ' to learn more about interactive tables.';\n",
              "          element.innerHTML = '';\n",
              "          dataTable['output_type'] = 'display_data';\n",
              "          await google.colab.output.renderOutput(dataTable, element);\n",
              "          const docLink = document.createElement('div');\n",
              "          docLink.innerHTML = docLinkHtml;\n",
              "          element.appendChild(docLink);\n",
              "        }\n",
              "      </script>\n",
              "    </div>\n",
              "  </div>\n",
              "  "
            ]
          },
          "metadata": {},
          "execution_count": 8
        }
      ]
    },
    {
      "cell_type": "code",
      "source": [
        "y_train = data_b.iloc[:-12, -1]\n",
        "y_test = data_b.iloc[-12:, -1]\n",
        "print('Обучающая выборка Y:', y_train.shape)\n",
        "print('Проверочная выборка Y:', y_test.shape)"
      ],
      "metadata": {
        "colab": {
          "base_uri": "https://localhost:8080/"
        },
        "id": "nNJBzUkEIxpf",
        "outputId": "6561f269-bcfe-4a2f-953c-326ad90b02f5"
      },
      "execution_count": 6,
      "outputs": [
        {
          "output_type": "stream",
          "name": "stdout",
          "text": [
            "Обучающая выборка Y: (108,)\n",
            "Проверочная выборка Y: (12,)\n"
          ]
        }
      ]
    },
    {
      "cell_type": "code",
      "source": [
        "y_train.head()"
      ],
      "metadata": {
        "colab": {
          "base_uri": "https://localhost:8080/"
        },
        "id": "GpRRLIplUZY-",
        "outputId": "32bc7a25-7e86-474b-c558-a3b115e15d16"
      },
      "execution_count": 7,
      "outputs": [
        {
          "output_type": "execute_result",
          "data": {
            "text/plain": [
              "Т\n",
              "2013-01-01    1.0097\n",
              "2013-02-01    1.0056\n",
              "2013-03-01    1.0034\n",
              "2013-04-01    1.0051\n",
              "2013-05-01    1.0066\n",
              "Name: Y2, dtype: float64"
            ]
          },
          "metadata": {},
          "execution_count": 7
        }
      ]
    },
    {
      "cell_type": "code",
      "source": [
        "x_train = np.array(x_train)\n",
        "x_test = np.array(x_test)\n",
        "y_train = np.array(y_train)\n",
        "y_test = np.array(y_test)\n",
        "print('Обучающая выборка X:', len(x_train))\n",
        "print('Проверочная выборка X:', len(x_test))\n",
        "print('Обучающая выборка Y:', len(y_train))\n",
        "print('Проверочная выборка Y:', len(y_test))"
      ],
      "metadata": {
        "colab": {
          "base_uri": "https://localhost:8080/"
        },
        "id": "s3t69JucbAgL",
        "outputId": "14bfcd24-b897-4f25-a53e-c54562b68f69"
      },
      "execution_count": 13,
      "outputs": [
        {
          "output_type": "stream",
          "name": "stdout",
          "text": [
            "Обучающая выборка X: 108\n",
            "Проверочная выборка X: 12\n",
            "Обучающая выборка Y: 108\n",
            "Проверочная выборка Y: 12\n"
          ]
        }
      ]
    },
    {
      "cell_type": "code",
      "source": [
        "x_train.shape"
      ],
      "metadata": {
        "colab": {
          "base_uri": "https://localhost:8080/"
        },
        "id": "fLfTN9wpmbJP",
        "outputId": "458e8383-0b2d-4fc7-f7e3-daf946855d9a"
      },
      "execution_count": null,
      "outputs": [
        {
          "output_type": "execute_result",
          "data": {
            "text/plain": [
              "(108, 90)"
            ]
          },
          "metadata": {},
          "execution_count": 12
        }
      ]
    },
    {
      "cell_type": "code",
      "source": [
        "import matplotlib.pyplot as plt"
      ],
      "metadata": {
        "id": "BdKFe58QM4zh"
      },
      "execution_count": 8,
      "outputs": []
    },
    {
      "cell_type": "code",
      "source": [
        "from tensorflow.keras.optimizers import Adam \n",
        "from tensorflow.keras.models import Sequential, Model \n",
        "from tensorflow.keras.layers import Dense, Dropout, BatchNormalization, Flatten, Conv1D, Conv2D, LSTM"
      ],
      "metadata": {
        "id": "AjCKSqMkLC7T"
      },
      "execution_count": 9,
      "outputs": []
    },
    {
      "cell_type": "code",
      "source": [
        "from sklearn.preprocessing import StandardScaler, MinMaxScaler #Нормировщики"
      ],
      "metadata": {
        "id": "zKiapJevCmhd"
      },
      "execution_count": 10,
      "outputs": []
    },
    {
      "cell_type": "code",
      "source": [
        "from tensorflow.keras.preprocessing.sequence import TimeseriesGenerator # для генерации выборки временных рядов"
      ],
      "metadata": {
        "id": "JBpddqIMqSpk"
      },
      "execution_count": 64,
      "outputs": []
    },
    {
      "cell_type": "code",
      "source": [
        "# Нормализуем данные по факторам (Х). Обучим нормализатор на обучающей выборке\n",
        "x_train_scal = MinMaxScaler()\n",
        "x_train_scal.fit(x_train)\n",
        "xTrain = x_train_scal.transform(x_train)\n",
        "xTest = x_train_scal.transform(x_test)"
      ],
      "metadata": {
        "id": "gvShwYeW0ti6"
      },
      "execution_count": 11,
      "outputs": []
    },
    {
      "cell_type": "code",
      "source": [
        "print(xTrain.shape)\n",
        "print(xTest.shape)"
      ],
      "metadata": {
        "colab": {
          "base_uri": "https://localhost:8080/"
        },
        "id": "SnGutaUNugHY",
        "outputId": "2f7c4ce9-cf8a-45df-de53-15363246b71e"
      },
      "execution_count": 77,
      "outputs": [
        {
          "output_type": "stream",
          "name": "stdout",
          "text": [
            "(108, 90)\n",
            "(12, 90)\n"
          ]
        }
      ]
    },
    {
      "cell_type": "code",
      "source": [
        "# Добавляем размерность для результата (Y) и нормируем данные \n",
        "y_train = np.reshape(y_train, (-1,1))\n",
        "y_test = np.reshape(y_test, (-1, 1))\n",
        "y_train_scal = MinMaxScaler()\n",
        "y_train_scal.fit(y_train)\n",
        "yTrain = y_train_scal.transform(y_train)\n",
        "yTest = y_train_scal.transform(y_test)"
      ],
      "metadata": {
        "id": "orvOVH_-BpnQ"
      },
      "execution_count": 14,
      "outputs": []
    },
    {
      "cell_type": "code",
      "source": [
        "print(yTrain.shape)\n",
        "print(yTest.shape)"
      ],
      "metadata": {
        "colab": {
          "base_uri": "https://localhost:8080/"
        },
        "id": "u76PMXHBo0rQ",
        "outputId": "cdd7e974-a723-43cf-b26d-70eaf9274d6f"
      },
      "execution_count": 78,
      "outputs": [
        {
          "output_type": "stream",
          "name": "stdout",
          "text": [
            "(108, 1)\n",
            "(12, 1)\n"
          ]
        }
      ]
    },
    {
      "cell_type": "markdown",
      "source": [
        "Модель с Dense-слоями"
      ],
      "metadata": {
        "id": "Hyrg7iPVCY_7"
      }
    },
    {
      "cell_type": "code",
      "source": [
        "model = Sequential()\n",
        "model.add(Dense(10, input_shape = (xTrain.shape[1:]), activation = 'relu'))\n",
        "model.add(Dense(100, activation = 'relu'))\n",
        "model.add(Dense(150, activation = 'relu'))\n",
        "model.add(Dense(10, activation = 'relu'))\n",
        "model.add(Dense(xTrain.shape[1], activation = 'linear'))\n",
        "\n",
        "model.compile(loss = 'mean_squared_error',\n",
        "              optimizer = 'adam', \n",
        "              metrics = ['mean_absolute_error'])\n",
        " \n",
        "history = model.fit(xTrain, \n",
        "                    yTrain, \n",
        "                    batch_size = 2, \n",
        "                    epochs = 50, \n",
        "                    verbose = 1, \n",
        "                    validation_data=(xTest, yTest))"
      ],
      "metadata": {
        "colab": {
          "base_uri": "https://localhost:8080/"
        },
        "id": "z4Ol4lidFklk",
        "outputId": "77e61670-e71f-4c25-beb3-b874f17e1509"
      },
      "execution_count": 84,
      "outputs": [
        {
          "output_type": "stream",
          "name": "stdout",
          "text": [
            "Epoch 1/50\n",
            "54/54 [==============================] - 1s 5ms/step - loss: 0.0515 - mean_absolute_error: 0.1827 - val_loss: 0.2727 - val_mean_absolute_error: 0.3127\n",
            "Epoch 2/50\n",
            "54/54 [==============================] - 0s 2ms/step - loss: 0.0205 - mean_absolute_error: 0.0987 - val_loss: 0.2362 - val_mean_absolute_error: 0.2794\n",
            "Epoch 3/50\n",
            "54/54 [==============================] - 0s 3ms/step - loss: 0.0112 - mean_absolute_error: 0.0673 - val_loss: 0.2303 - val_mean_absolute_error: 0.3185\n",
            "Epoch 4/50\n",
            "54/54 [==============================] - 0s 2ms/step - loss: 0.0094 - mean_absolute_error: 0.0590 - val_loss: 0.2205 - val_mean_absolute_error: 0.2989\n",
            "Epoch 5/50\n",
            "54/54 [==============================] - 0s 2ms/step - loss: 0.0081 - mean_absolute_error: 0.0635 - val_loss: 0.2221 - val_mean_absolute_error: 0.3051\n",
            "Epoch 6/50\n",
            "54/54 [==============================] - 0s 3ms/step - loss: 0.0076 - mean_absolute_error: 0.0579 - val_loss: 0.2279 - val_mean_absolute_error: 0.3362\n",
            "Epoch 7/50\n",
            "54/54 [==============================] - 0s 3ms/step - loss: 0.0086 - mean_absolute_error: 0.0643 - val_loss: 0.2310 - val_mean_absolute_error: 0.3447\n",
            "Epoch 8/50\n",
            "54/54 [==============================] - 0s 2ms/step - loss: 0.0057 - mean_absolute_error: 0.0550 - val_loss: 0.2368 - val_mean_absolute_error: 0.3652\n",
            "Epoch 9/50\n",
            "54/54 [==============================] - 0s 2ms/step - loss: 0.0058 - mean_absolute_error: 0.0542 - val_loss: 0.2144 - val_mean_absolute_error: 0.3101\n",
            "Epoch 10/50\n",
            "54/54 [==============================] - 0s 2ms/step - loss: 0.0047 - mean_absolute_error: 0.0477 - val_loss: 0.2205 - val_mean_absolute_error: 0.3380\n",
            "Epoch 11/50\n",
            "54/54 [==============================] - 0s 3ms/step - loss: 0.0046 - mean_absolute_error: 0.0475 - val_loss: 0.2157 - val_mean_absolute_error: 0.3282\n",
            "Epoch 12/50\n",
            "54/54 [==============================] - 0s 2ms/step - loss: 0.0051 - mean_absolute_error: 0.0525 - val_loss: 0.2374 - val_mean_absolute_error: 0.3778\n",
            "Epoch 13/50\n",
            "54/54 [==============================] - 0s 2ms/step - loss: 0.0040 - mean_absolute_error: 0.0471 - val_loss: 0.2111 - val_mean_absolute_error: 0.3241\n",
            "Epoch 14/50\n",
            "54/54 [==============================] - 0s 2ms/step - loss: 0.0034 - mean_absolute_error: 0.0446 - val_loss: 0.2331 - val_mean_absolute_error: 0.3862\n",
            "Epoch 15/50\n",
            "54/54 [==============================] - 0s 2ms/step - loss: 0.0047 - mean_absolute_error: 0.0560 - val_loss: 0.2176 - val_mean_absolute_error: 0.2964\n",
            "Epoch 16/50\n",
            "54/54 [==============================] - 0s 2ms/step - loss: 0.0035 - mean_absolute_error: 0.0450 - val_loss: 0.2197 - val_mean_absolute_error: 0.3277\n",
            "Epoch 17/50\n",
            "54/54 [==============================] - 0s 2ms/step - loss: 0.0049 - mean_absolute_error: 0.0501 - val_loss: 0.2278 - val_mean_absolute_error: 0.3245\n",
            "Epoch 18/50\n",
            "54/54 [==============================] - 0s 2ms/step - loss: 0.0029 - mean_absolute_error: 0.0411 - val_loss: 0.2260 - val_mean_absolute_error: 0.3255\n",
            "Epoch 19/50\n",
            "54/54 [==============================] - 0s 2ms/step - loss: 0.0026 - mean_absolute_error: 0.0410 - val_loss: 0.2332 - val_mean_absolute_error: 0.3615\n",
            "Epoch 20/50\n",
            "54/54 [==============================] - 0s 2ms/step - loss: 0.0029 - mean_absolute_error: 0.0436 - val_loss: 0.2265 - val_mean_absolute_error: 0.3331\n",
            "Epoch 21/50\n",
            "54/54 [==============================] - 0s 2ms/step - loss: 0.0026 - mean_absolute_error: 0.0407 - val_loss: 0.2317 - val_mean_absolute_error: 0.3470\n",
            "Epoch 22/50\n",
            "54/54 [==============================] - 0s 2ms/step - loss: 0.0024 - mean_absolute_error: 0.0391 - val_loss: 0.2235 - val_mean_absolute_error: 0.3292\n",
            "Epoch 23/50\n",
            "54/54 [==============================] - 0s 2ms/step - loss: 0.0022 - mean_absolute_error: 0.0375 - val_loss: 0.2316 - val_mean_absolute_error: 0.3608\n",
            "Epoch 24/50\n",
            "54/54 [==============================] - 0s 2ms/step - loss: 0.0025 - mean_absolute_error: 0.0396 - val_loss: 0.2192 - val_mean_absolute_error: 0.3278\n",
            "Epoch 25/50\n",
            "54/54 [==============================] - 0s 2ms/step - loss: 0.0028 - mean_absolute_error: 0.0412 - val_loss: 0.2295 - val_mean_absolute_error: 0.3290\n",
            "Epoch 26/50\n",
            "54/54 [==============================] - 0s 2ms/step - loss: 0.0022 - mean_absolute_error: 0.0372 - val_loss: 0.2292 - val_mean_absolute_error: 0.3476\n",
            "Epoch 27/50\n",
            "54/54 [==============================] - 0s 2ms/step - loss: 0.0021 - mean_absolute_error: 0.0363 - val_loss: 0.2289 - val_mean_absolute_error: 0.3339\n",
            "Epoch 28/50\n",
            "54/54 [==============================] - 0s 2ms/step - loss: 0.0022 - mean_absolute_error: 0.0368 - val_loss: 0.2266 - val_mean_absolute_error: 0.3242\n",
            "Epoch 29/50\n",
            "54/54 [==============================] - 0s 2ms/step - loss: 0.0020 - mean_absolute_error: 0.0356 - val_loss: 0.2223 - val_mean_absolute_error: 0.2978\n",
            "Epoch 30/50\n",
            "54/54 [==============================] - 0s 2ms/step - loss: 0.0020 - mean_absolute_error: 0.0350 - val_loss: 0.2225 - val_mean_absolute_error: 0.3043\n",
            "Epoch 31/50\n",
            "54/54 [==============================] - 0s 2ms/step - loss: 0.0018 - mean_absolute_error: 0.0330 - val_loss: 0.2269 - val_mean_absolute_error: 0.3187\n",
            "Epoch 32/50\n",
            "54/54 [==============================] - 0s 2ms/step - loss: 0.0019 - mean_absolute_error: 0.0347 - val_loss: 0.2235 - val_mean_absolute_error: 0.3028\n",
            "Epoch 33/50\n",
            "54/54 [==============================] - 0s 2ms/step - loss: 0.0016 - mean_absolute_error: 0.0312 - val_loss: 0.2437 - val_mean_absolute_error: 0.3715\n",
            "Epoch 34/50\n",
            "54/54 [==============================] - 0s 2ms/step - loss: 0.0019 - mean_absolute_error: 0.0346 - val_loss: 0.2256 - val_mean_absolute_error: 0.3069\n",
            "Epoch 35/50\n",
            "54/54 [==============================] - 0s 2ms/step - loss: 0.0017 - mean_absolute_error: 0.0330 - val_loss: 0.2271 - val_mean_absolute_error: 0.3187\n",
            "Epoch 36/50\n",
            "54/54 [==============================] - 0s 2ms/step - loss: 0.0018 - mean_absolute_error: 0.0345 - val_loss: 0.2270 - val_mean_absolute_error: 0.3135\n",
            "Epoch 37/50\n",
            "54/54 [==============================] - 0s 2ms/step - loss: 0.0020 - mean_absolute_error: 0.0351 - val_loss: 0.2252 - val_mean_absolute_error: 0.3273\n",
            "Epoch 38/50\n",
            "54/54 [==============================] - 0s 2ms/step - loss: 0.0018 - mean_absolute_error: 0.0331 - val_loss: 0.2307 - val_mean_absolute_error: 0.3319\n",
            "Epoch 39/50\n",
            "54/54 [==============================] - 0s 2ms/step - loss: 0.0017 - mean_absolute_error: 0.0321 - val_loss: 0.2308 - val_mean_absolute_error: 0.3181\n",
            "Epoch 40/50\n",
            "54/54 [==============================] - 0s 2ms/step - loss: 0.0016 - mean_absolute_error: 0.0318 - val_loss: 0.2277 - val_mean_absolute_error: 0.3224\n",
            "Epoch 41/50\n",
            "54/54 [==============================] - 0s 2ms/step - loss: 0.0017 - mean_absolute_error: 0.0319 - val_loss: 0.2298 - val_mean_absolute_error: 0.3185\n",
            "Epoch 42/50\n",
            "54/54 [==============================] - 0s 2ms/step - loss: 0.0013 - mean_absolute_error: 0.0292 - val_loss: 0.2358 - val_mean_absolute_error: 0.3455\n",
            "Epoch 43/50\n",
            "54/54 [==============================] - 0s 2ms/step - loss: 0.0017 - mean_absolute_error: 0.0326 - val_loss: 0.2298 - val_mean_absolute_error: 0.3380\n",
            "Epoch 44/50\n",
            "54/54 [==============================] - 0s 2ms/step - loss: 0.0016 - mean_absolute_error: 0.0313 - val_loss: 0.2303 - val_mean_absolute_error: 0.3309\n",
            "Epoch 45/50\n",
            "54/54 [==============================] - 0s 2ms/step - loss: 0.0015 - mean_absolute_error: 0.0288 - val_loss: 0.2243 - val_mean_absolute_error: 0.2968\n",
            "Epoch 46/50\n",
            "54/54 [==============================] - 0s 2ms/step - loss: 0.0016 - mean_absolute_error: 0.0326 - val_loss: 0.2297 - val_mean_absolute_error: 0.3217\n",
            "Epoch 47/50\n",
            "54/54 [==============================] - 0s 2ms/step - loss: 0.0016 - mean_absolute_error: 0.0318 - val_loss: 0.2240 - val_mean_absolute_error: 0.2867\n",
            "Epoch 48/50\n",
            "54/54 [==============================] - 0s 2ms/step - loss: 0.0018 - mean_absolute_error: 0.0329 - val_loss: 0.2181 - val_mean_absolute_error: 0.3092\n",
            "Epoch 49/50\n",
            "54/54 [==============================] - 0s 2ms/step - loss: 0.0016 - mean_absolute_error: 0.0314 - val_loss: 0.2220 - val_mean_absolute_error: 0.3251\n",
            "Epoch 50/50\n",
            "54/54 [==============================] - 0s 2ms/step - loss: 0.0016 - mean_absolute_error: 0.0316 - val_loss: 0.2333 - val_mean_absolute_error: 0.3273\n"
          ]
        }
      ]
    },
    {
      "cell_type": "markdown",
      "source": [],
      "metadata": {
        "id": "kLnpDk2DGzPG"
      }
    },
    {
      "cell_type": "code",
      "source": [
        "plt.plot(history.history['mean_absolute_error'], \n",
        "         label='Ошибка на обучающей выборке')\n",
        "plt.plot(history.history['val_mean_absolute_error'], \n",
        "         label='Ошибка на проверочной выборке')\n",
        "plt.xlabel('Эпоха обучения')\n",
        "plt.ylabel('Ошибка')\n",
        "plt.legend()\n",
        "plt.show()"
      ],
      "metadata": {
        "colab": {
          "base_uri": "https://localhost:8080/",
          "height": 451
        },
        "id": "rXJXWmJjGzuH",
        "outputId": "de8fcbdf-f0d8-4279-c7ef-4a00ca0ab6a4"
      },
      "execution_count": 85,
      "outputs": [
        {
          "output_type": "display_data",
          "data": {
            "text/plain": [
              "<Figure size 640x480 with 1 Axes>"
            ],
            "image/png": "[encoded data removed]"
          },
          "metadata": {}
        }
      ]
    },
    {
      "cell_type": "code",
      "source": [
        "# Функция рассчитываем результаты прогнозирования сети\n",
        "# В аргументы принимает сеть (currModel) и проверочную выборку\n",
        "# Выдаёт результаты предсказания predVal\n",
        "# И правильные ответы в исходной размерности yValUnscaled (какими они были до нормирования)\n",
        "def getPred(currModel, xVal, yVal, yScaler):\n",
        "  # Предсказываем ответ сети по проверочной выборке\n",
        "  # И возвращаем исходны масштаб данных, до нормализации\n",
        "  predVal = yScaler.inverse_transform(currModel.predict(xVal))\n",
        "  yValUnscaled = yScaler.inverse_transform(yVal)\n",
        "  \n",
        "  return (predVal, yValUnscaled)\n",
        "\n",
        "# Функция визуализирует графики, что предсказала сеть и какие были правильные ответы\n",
        "# start - точка с которой начинаем отрисовку графика\n",
        "# step - длина графика, которую отрисовываем\n",
        "# channel - какой канал отрисовываем\n",
        "def showPredict(start, step, channel, predVal, yValUnscaled):\n",
        "  plt.figure(figsize=(22,6))\n",
        "  plt.plot(predVal[start:start+step, 0],\n",
        "           label='Прогноз')\n",
        "  plt.plot(yValUnscaled[start:start+step, channel], \n",
        "           label='Базовый ряд')\n",
        "  plt.xlabel('Время')\n",
        "  plt.ylabel('Значение Close')\n",
        "  plt.legend()\n",
        "  plt.show()"
      ],
      "metadata": {
        "id": "aWdhcvYzBpyP"
      },
      "execution_count": 86,
      "outputs": []
    },
    {
      "cell_type": "code",
      "source": [
        "#Прогнозируем данные текущей сетью\n",
        "currModel = model #Выбираем текущую модель\n",
        "(predVal, yValUnscaled) = getPred(currModel, xTest, yTest, y_train_scal) #Прогнозируем данные\n",
        "\n",
        "#Отображаем графики\n",
        "showPredict(0, 12, 0, predVal, yValUnscaled)"
      ],
      "metadata": {
        "id": "67nVb0A0Dd-O",
        "colab": {
          "base_uri": "https://localhost:8080/",
          "height": 584
        },
        "outputId": "674596d6-e3fa-4c2b-db6e-e6059b959830"
      },
      "execution_count": 89,
      "outputs": [
        {
          "output_type": "stream",
          "name": "stdout",
          "text": [
            "1/1 [==============================] - 0s 53ms/step\n"
          ]
        },
        {
          "output_type": "display_data",
          "data": {
            "text/plain": [
              "<Figure size 2200x600 with 1 Axes>"
            ],
            "image/png": "[encoded data removed]"
          },
          "metadata": {}
        }
      ]
    },
    {
      "cell_type": "markdown",
      "source": [
        "Модель с LSTM-слоем"
      ],
      "metadata": {
        "id": "aE5RuE3-CojP"
      }
    },
    {
      "cell_type": "code",
      "source": [
        "#Генератор обучения \n",
        "trainDataGen = TimeseriesGenerator(xTrain, yTrain,           #В качестве параметров наши выборки\n",
        "                               length=107, stride=1, sampling_rate=1, #Для каждой точки (из промежутка длины xLen)\n",
        "                               batch_size=4)                #Размер batch, который будем скармливать модели\n"
      ],
      "metadata": {
        "id": "Hq5VgGq62T-4"
      },
      "execution_count": 115,
      "outputs": []
    },
    {
      "cell_type": "code",
      "source": [
        "print(xTrain.shape)\n",
        "print(yTrain.shape)"
      ],
      "metadata": {
        "colab": {
          "base_uri": "https://localhost:8080/"
        },
        "id": "DQNaHDcr2y4f",
        "outputId": "7236139e-01ff-486a-f553-2d776898afe5"
      },
      "execution_count": 100,
      "outputs": [
        {
          "output_type": "stream",
          "name": "stdout",
          "text": [
            "(108, 90)\n",
            "(108, 1)\n"
          ]
        }
      ]
    },
    {
      "cell_type": "code",
      "source": [
        "#Генератор проверки\n",
        "testDataGen = TimeseriesGenerator(xTest, yTest,\n",
        "                               length=11, stride=1,\n",
        "                               batch_size=2)"
      ],
      "metadata": {
        "id": "TOic_rX12U0C"
      },
      "execution_count": 135,
      "outputs": []
    },
    {
      "cell_type": "code",
      "source": [
        "print(xTest.shape)\n",
        "print(yTest.shape)"
      ],
      "metadata": {
        "colab": {
          "base_uri": "https://localhost:8080/"
        },
        "id": "imyGU-bjATTQ",
        "outputId": "5d435e41-1463-4601-fd0c-c2819bfadde8"
      },
      "execution_count": 151,
      "outputs": [
        {
          "output_type": "stream",
          "name": "stdout",
          "text": [
            "(12, 90)\n",
            "(12, 1)\n"
          ]
        }
      ]
    },
    {
      "cell_type": "code",
      "source": [
        "from tensorflow.keras.layers import concatenate, Input, Dense, Dropout, BatchNormalization, Flatten, Conv1D, Conv2D, LSTM, MaxPooling1D"
      ],
      "metadata": {
        "id": "7uL7S5AS4dFC"
      },
      "execution_count": 105,
      "outputs": []
    },
    {
      "cell_type": "code",
      "source": [
        "modelL = Sequential()\n",
        "modelL.add(LSTM(16, input_shape = (108,90)))\n",
        "modelL.add(Dense(100, activation=\"relu\"))\n",
        "modelL.add(Dense(1, activation=\"linear\"))"
      ],
      "metadata": {
        "id": "WsClHoBr9vX-"
      },
      "execution_count": 175,
      "outputs": []
    },
    {
      "cell_type": "code",
      "source": [
        "modelL.compile(loss = 'mean_squared_error',\n",
        "              optimizer = 'adam', \n",
        "              metrics = ['mean_absolute_error'])"
      ],
      "metadata": {
        "id": "1Zqf5rC6-pYc"
      },
      "execution_count": 176,
      "outputs": []
    },
    {
      "cell_type": "code",
      "source": [
        "history = modelL.fit(trainDataGen, \n",
        "                    epochs=20, \n",
        "                    verbose=1,\n",
        "                    validation_data=testDataGen)"
      ],
      "metadata": {
        "colab": {
          "base_uri": "https://localhost:8080/"
        },
        "id": "OLJoeHwl-t70",
        "outputId": "f732f03d-f159-48da-e3f4-4238c9738be5"
      },
      "execution_count": 177,
      "outputs": [
        {
          "output_type": "stream",
          "name": "stdout",
          "text": [
            "Epoch 1/20\n",
            "1/1 [==============================] - 3s 3s/step - loss: 0.1847 - mean_absolute_error: 0.4298 - val_loss: 0.1064 - val_mean_absolute_error: 0.3263\n",
            "Epoch 2/20\n",
            "1/1 [==============================] - 0s 97ms/step - loss: 0.1000 - mean_absolute_error: 0.3162 - val_loss: 0.0918 - val_mean_absolute_error: 0.3030\n",
            "Epoch 3/20\n",
            "1/1 [==============================] - 0s 56ms/step - loss: 0.0601 - mean_absolute_error: 0.2452 - val_loss: 0.0759 - val_mean_absolute_error: 0.2754\n",
            "Epoch 4/20\n",
            "1/1 [==============================] - 0s 56ms/step - loss: 0.0403 - mean_absolute_error: 0.2006 - val_loss: 0.0595 - val_mean_absolute_error: 0.2438\n",
            "Epoch 5/20\n",
            "1/1 [==============================] - 0s 51ms/step - loss: 0.0241 - mean_absolute_error: 0.1551 - val_loss: 0.0406 - val_mean_absolute_error: 0.2015\n",
            "Epoch 6/20\n",
            "1/1 [==============================] - 0s 50ms/step - loss: 0.0112 - mean_absolute_error: 0.1060 - val_loss: 0.0231 - val_mean_absolute_error: 0.1521\n",
            "Epoch 7/20\n",
            "1/1 [==============================] - 0s 66ms/step - loss: 0.0030 - mean_absolute_error: 0.0547 - val_loss: 0.0103 - val_mean_absolute_error: 0.1014\n",
            "Epoch 8/20\n",
            "1/1 [==============================] - 0s 58ms/step - loss: 1.9016e-05 - mean_absolute_error: 0.0044 - val_loss: 0.0029 - val_mean_absolute_error: 0.0539\n",
            "Epoch 9/20\n",
            "1/1 [==============================] - 0s 55ms/step - loss: 0.0017 - mean_absolute_error: 0.0417 - val_loss: 1.9702e-04 - val_mean_absolute_error: 0.0140\n",
            "Epoch 10/20\n",
            "1/1 [==============================] - 0s 61ms/step - loss: 0.0061 - mean_absolute_error: 0.0783 - val_loss: 2.1017e-04 - val_mean_absolute_error: 0.0145\n",
            "Epoch 11/20\n",
            "1/1 [==============================] - 0s 57ms/step - loss: 0.0105 - mean_absolute_error: 0.1023 - val_loss: 8.2645e-04 - val_mean_absolute_error: 0.0287\n",
            "Epoch 12/20\n",
            "1/1 [==============================] - 0s 55ms/step - loss: 0.0120 - mean_absolute_error: 0.1096 - val_loss: 9.3939e-04 - val_mean_absolute_error: 0.0306\n",
            "Epoch 13/20\n",
            "1/1 [==============================] - 0s 54ms/step - loss: 0.0109 - mean_absolute_error: 0.1043 - val_loss: 5.0199e-04 - val_mean_absolute_error: 0.0224\n",
            "Epoch 14/20\n",
            "1/1 [==============================] - 0s 56ms/step - loss: 0.0080 - mean_absolute_error: 0.0896 - val_loss: 7.3411e-05 - val_mean_absolute_error: 0.0086\n",
            "Epoch 15/20\n",
            "1/1 [==============================] - 0s 52ms/step - loss: 0.0047 - mean_absolute_error: 0.0687 - val_loss: 5.8169e-05 - val_mean_absolute_error: 0.0076\n",
            "Epoch 16/20\n",
            "1/1 [==============================] - 0s 54ms/step - loss: 0.0020 - mean_absolute_error: 0.0445 - val_loss: 6.4119e-04 - val_mean_absolute_error: 0.0253\n",
            "Epoch 17/20\n",
            "1/1 [==============================] - 0s 52ms/step - loss: 3.8727e-04 - mean_absolute_error: 0.0197 - val_loss: 0.0018 - val_mean_absolute_error: 0.0428\n",
            "Epoch 18/20\n",
            "1/1 [==============================] - 0s 55ms/step - loss: 3.7086e-07 - mean_absolute_error: 6.0898e-04 - val_loss: 0.0034 - val_mean_absolute_error: 0.0583\n",
            "Epoch 19/20\n",
            "1/1 [==============================] - 0s 58ms/step - loss: 3.4285e-04 - mean_absolute_error: 0.0185 - val_loss: 0.0049 - val_mean_absolute_error: 0.0703\n",
            "Epoch 20/20\n",
            "1/1 [==============================] - 0s 55ms/step - loss: 0.0010 - mean_absolute_error: 0.0321 - val_loss: 0.0062 - val_mean_absolute_error: 0.0785\n"
          ]
        }
      ]
    },
    {
      "cell_type": "code",
      "source": [
        "plt.plot(history.history['loss'], \n",
        "         label='Ошибка на обучающей выборке')\n",
        "plt.plot(history.history['val_mean_absolute_error'], \n",
        "         label='Ошибка на проверочной выборке')\n",
        "plt.xlabel('Эпоха обучения')\n",
        "plt.ylabel('Ошибка')\n",
        "plt.legend()\n",
        "plt.show()"
      ],
      "metadata": {
        "colab": {
          "base_uri": "https://localhost:8080/",
          "height": 449
        },
        "id": "t7IygW1C9vbp",
        "outputId": "6776143e-7187-4894-b4cf-03cd00a6537b"
      },
      "execution_count": 178,
      "outputs": [
        {
          "output_type": "display_data",
          "data": {
            "text/plain": [
              "<Figure size 640x480 with 1 Axes>"
            ],
            "image/png": "[encoded data removed]"
          },
          "metadata": {}
        }
      ]
    },
    {
      "cell_type": "code",
      "source": [],
      "metadata": {
        "id": "6UgMdv5F9vgt"
      },
      "execution_count": null,
      "outputs": []
    }
  ]
}